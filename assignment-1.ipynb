{
 "cells": [
  {
   "cell_type": "markdown",
   "metadata": {},
   "source": [
    "# Bresenham's Algorithm\n",
    "\n",
    "This code implements the Bresenham's line drawing algorithm and visualizes the line using matplotlib in Python. Here we have implemented this algorithm for two conditions:\n",
    "\n",
    "- When the slope is between 0 and 1 (0 < slope < 1)\n",
    "- When the slope is greater than 1 (slope > 1)\n"
   ]
  },
  {
   "cell_type": "markdown",
   "metadata": {},
   "source": [
    "For both of the cases, we have to import matplotlib.pyplot and numpy libraries. Here Matplotlib is used for plotting, and numpy is used for numerical computations."
   ]
  },
  {
   "cell_type": "code",
   "execution_count": 68,
   "metadata": {},
   "outputs": [],
   "source": [
    "import matplotlib.pyplot as plt\n",
    "import numpy as np"
   ]
  },
  {
   "cell_type": "markdown",
   "metadata": {},
   "source": [
    "We are seting up the title, x-axis label, and y-axis label for the plot."
   ]
  },
  {
   "cell_type": "code",
   "execution_count": 69,
   "metadata": {},
   "outputs": [
    {
     "data": {
      "text/plain": [
       "Text(0, 0.5, 'Y Axis')"
      ]
     },
     "execution_count": 69,
     "metadata": {},
     "output_type": "execute_result"
    },
    {
     "data": {
      "image/png": "[encoded data removed]",
      "text/plain": [
       "<Figure size 640x480 with 1 Axes>"
      ]
     },
     "metadata": {},
     "output_type": "display_data"
    }
   ],
   "source": [
    "plt.title(\"Bresenham Algorithm\")\n",
    "plt.xlabel(\"X Axis\")\n",
    "plt.ylabel(\"Y Axis\")"
   ]
  },
  {
   "cell_type": "markdown",
   "metadata": {},
   "source": [
    "Inside the bres function:\n",
    "\n",
    "It initializes variables x and y to the starting point (x1, y1). Calculates the differences in x and y coordinates (dx and dy) between the two points and determines the gradient of the line. Checks if the slope of the line is greater than 1. If so, it swaps the x and y coordinates to handle steep slopes effectively.\n",
    "Initializes the Bresenham error term p. Iterates through the line drawing algorithm, updating the coordinates x and y at each step and appending them to lists xcoordinates and ycoordinates. Creates a grid of zeros using numpy to represent the coordinates. Fills the grid with 1s at the calculated coordinates.\n",
    "Displays the grid as an image using plt.imshow. The main function prompts the user to input the coordinates of the starting and ending points of the line.\n",
    "\n",
    "Finally, the main function is called if the script is executed directly."
   ]
  },
  {
   "cell_type": "markdown",
   "metadata": {},
   "source": [
    "Here, is_steep variable is checking if the slope is greater than 1. If the slope > 1, then we are swapping the variables.\n",
    "\n",
    "### Why are we swapping the variables?\n",
    "\n",
    "When the slope of a line is greater than 1, it means that the line is more vertical than horizontal. In such cases, the standard Bresenham's algorithm may not perform optimally because it increments the x coordinate by 1 at each step. This can lead to a significant number of iterations required to cover the vertical distance between two points.\n",
    "\n",
    "By exchanging the x and y values when the slope is greater than 1, we effectively rotate the coordinate system by 90 degrees, making the line less steep or more horizontal. This allows us to apply the Bresenham's algorithm more effectively since it is designed to efficiently draw lines with slopes between 0 and 1."
   ]
  },
  {
   "cell_type": "code",
   "execution_count": 70,
   "metadata": {},
   "outputs": [],
   "source": [
    "def bres(x1, y1, x2, y2):\n",
    "    # Determine if the slope is steep\n",
    "    is_steep = abs(y2 - y1) > abs(x2 - x1)\n",
    "\n",
    "    # If the slope is steep, swap x and y coordinates\n",
    "    if is_steep:\n",
    "        x1, y1 = y1, x1\n",
    "        x2, y2 = y2, x2\n",
    "\n",
    "    # Ensure the line is always drawn from left to right\n",
    "    if x1 > x2:\n",
    "        x1, x2 = x2, x1\n",
    "        y1, y2 = y2, y1\n",
    "\n",
    "    dx = x2 - x1\n",
    "    dy = abs(y2 - y1)\n",
    "    error = dx / 2\n",
    "    y_step = 1 if y1 < y2 else -1\n",
    "    y = y1\n",
    "\n",
    "    # Initialize the plotting points\n",
    "    points = []\n",
    "\n",
    "    for x in range(x1, x2 + 1):\n",
    "        # Append points depending on the steepness of the slope\n",
    "        points.append((y, x) if is_steep else (x, y))\n",
    "\n",
    "        error -= dy\n",
    "        if error < 0:\n",
    "            y += y_step\n",
    "            error += dx\n",
    "\n",
    "    # Determine the size of the grid\n",
    "    size_y = max(y1, y2) + 1 \n",
    "    size_x = max(x1, x2) + 1 \n",
    "\n",
    "    # Create a grid of zeros representing the coordinates\n",
    "    grid = np.zeros((size_y, size_x))\n",
    "\n",
    "    # Fill the grid with 1s at the coordinates\n",
    "    for point in points:\n",
    "        y, x = point\n",
    "        if 0 <= y < size_y and 0 <= x < size_x:\n",
    "            grid[y, x] = 1\n",
    "\n",
    "    # Show the grid as an image with filled squares\n",
    "    plt.imshow(grid, cmap='gray', origin='lower')\n",
    "\n",
    "    # Add borders to the blocks\n",
    "    for point in points:\n",
    "        y, x = point\n",
    "        if 0 <= y < size_y and 0 <= x < size_x:\n",
    "            plt.plot([x - 0.5, x + 0.5, x + 0.5, x - 0.5, x - 0.5], \n",
    "                     [y - 0.5, y - 0.5, y + 0.5, y + 0.5, y - 0.5], color='black')\n",
    "\n",
    "    plt.show()\n",
    "\n",
    "\n"
   ]
  },
  {
   "cell_type": "code",
   "execution_count": 71,
   "metadata": {},
   "outputs": [
    {
     "data": {
      "image/png": "[encoded data removed]",
      "text/plain": [
       "<Figure size 640x480 with 1 Axes>"
      ]
     },
     "metadata": {},
     "output_type": "display_data"
    }
   ],
   "source": [
    "def main():\n",
    "    x1 = 1\n",
    "    y1 = 1\n",
    "    x2 = 8\n",
    "    y2 = 4\n",
    "\n",
    "    bres(x1, y1, x2, y2)\n",
    "\n",
    "if __name__ == \"__main__\":\n",
    "    main()"
   ]
  },
  {
   "cell_type": "code",
   "execution_count": 72,
   "metadata": {},
   "outputs": [
    {
     "data": {
      "image/png": "[encoded data removed]",
      "text/plain": [
       "<Figure size 640x480 with 1 Axes>"
      ]
     },
     "metadata": {},
     "output_type": "display_data"
    }
   ],
   "source": [
    "def main():\n",
    "    x1 = 1\n",
    "    y1 = 1\n",
    "    x2 = 4\n",
    "    y2 = 8\n",
    "\n",
    "    bres(x1, y1, x2, y2)\n",
    "\n",
    "if __name__ == \"__main__\":\n",
    "    main()"
   ]
  },
  {
   "cell_type": "markdown",
   "metadata": {},
   "source": [
    "We have to be cautious because after performing the calculations with the exchanged x and y values, we have to swap them back to obtain the correct pixel coordinates on the original line. This ensures that the line is drawn accurately on the display, maintaining its original orientation and position."
   ]
  }
 ],
 "metadata": {
  "kernelspec": {
   "display_name": "Python 3",
   "language": "python",
   "name": "python3"
  },
  "language_info": {
   "codemirror_mode": {
    "name": "ipython",
    "version": 3
   },
   "file_extension": ".py",
   "mimetype": "text/x-python",
   "name": "python",
   "nbconvert_exporter": "python",
   "pygments_lexer": "ipython3",
   "version": "3.11.8"
  }
 },
 "nbformat": 4,
 "nbformat_minor": 2
}
